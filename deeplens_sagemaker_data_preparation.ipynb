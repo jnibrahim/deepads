{
 "cells": [
  {
   "cell_type": "markdown",
   "metadata": {},
   "source": [
    "# Prepare data set for training\n",
    "\n",
    "This is a template to train your dataset, please make a copy and modify from there."
   ]
  },
  {
   "cell_type": "markdown",
   "metadata": {},
   "source": [
    "## Environment variables\n",
    "\n",
    "In this section, we are going to setup some environment variables for all scripts below. Please modify these variable accordingly."
   ]
  },
  {
   "cell_type": "code",
   "execution_count": null,
   "metadata": {},
   "outputs": [],
   "source": [
    "%env BUCKET=deeplens-sagemaker-2bbe16b4-c056-4ae2-9332-d31dd7aeb470\n",
    "%env DATA_SET_PATH=datasets\n",
    "%env DATA_PATH=gender\n",
    "%env INCUBATOR_GIT_PATH=https://github.com/apache/incubator-mxnet.git\n",
    "%env INCUBATOR_PATH=incubator-mxnet\n",
    "%env IM2REC_PATH=tools/im2rec.py\n",
    "%env TRAIN_CHANNEL=train\n",
    "%env VALIDATION_CHANNEL=validation\n",
    "%env RECORD_PATH=gender\n",
    "%env TRAINING_RATIO=0.90\n",
    "%env OUTPUT_PREFIX=om_gender\n",
    "%env RESIZE=300\n",
    "%env QUALITY=95\n",
    "%env NUM_THREAD=16\n",
    "%env CLEAN_UP=true"
   ]
  },
  {
   "cell_type": "code",
   "execution_count": null,
   "metadata": {},
   "outputs": [],
   "source": [
    "%%bash\n",
    "\n",
    "echo \"Remove exsiting dataset.\"\n",
    "rm -r \"./$DATA_PATH\"\n",
    "\n",
    "echo \"Download image dataset from S3 bucket\"\n",
    "aws s3 cp --recursive \"s3://$BUCKET/$DATA_SET_PATH/$DATA_PATH\" \"./$DATA_PATH\""
   ]
  },
  {
   "cell_type": "markdown",
   "metadata": {},
   "source": [
    "## Download mxnet\n",
    "\n",
    "We are going to use im2rec.py python tool script provided by incubator-mxnet to prepare our images into RecordIO format."
   ]
  },
  {
   "cell_type": "code",
   "execution_count": null,
   "metadata": {},
   "outputs": [],
   "source": [
    "%%bash\n",
    "\n",
    "rm -rf \"./$INCUBATOR_PATH\"\n",
    "echo \"Clone incubator-mxnet, we are going to use im2rec.py to prepare our RecordIO dataset\"\n",
    "git clone $INCUBATOR_GIT_PATH $INCUBATOR_PATH"
   ]
  },
  {
   "cell_type": "markdown",
   "metadata": {},
   "source": [
    "## Prepare image datasets\n",
    "\n",
    "Type `python3 ./incubator-mxnet/tools/im2rec.py --help` in terminal for detailed explanation of all command line arguments. \n",
    "\n",
    "Apache mxnet team may change the tool script in the future. In this case, please refer to the latest help of the script `im2rec.py`."
   ]
  },
  {
   "cell_type": "code",
   "execution_count": null,
   "metadata": {},
   "outputs": [],
   "source": [
    "%%bash\n",
    "\n",
    "echo \"Create image list with im2rec.py script\"\n",
    "python3 ./$INCUBATOR_PATH/$IM2REC_PATH $OUTPUT_PREFIX \"./$DATA_PATH/\" --list --recursive --train-ratio $TRAINING_RATIO > \"$OUTPUT_PREFIX\"_label\n",
    "\n",
    "echo \"$OUTPUT_PREFIX label indices\"\n",
    "cat \"$OUTPUT_PREFIX\"_label\n",
    "\n",
    "echo \"Create image recordio format binary file from the image list\"\n",
    "python3 ./$INCUBATOR_PATH/$IM2REC_PATH $OUTPUT_PREFIX\"_\" \"./$DATA_PATH\" --resize $RESIZE --center-crop --quality $QUALITY --num-thread $NUM_THREAD"
   ]
  },
  {
   "cell_type": "markdown",
   "metadata": {},
   "source": [
    "## Upload artefacts\n",
    "\n",
    "Upload all created artefacts to the S3 bucket, we will use them in the next notebook to train our model."
   ]
  },
  {
   "cell_type": "code",
   "execution_count": null,
   "metadata": {},
   "outputs": [],
   "source": [
    "%%bash\n",
    "\n",
    "echo \"Remove existing artefacts\"\n",
    "aws s3 rm \"s3://$BUCKET/$OUTPUT_PREFIX\"_label\n",
    "aws s3 rm --recursive \"s3://$BUCKET/$TRAIN_CHANNEL/$RECORD_PATH/\" --exclude \"s3://$BUCKET/$TRAIN_CHANNEL/\"\n",
    "aws s3 rm --recursive \"s3://$BUCKET/$VALIDATION_CHANNEL/$RECORD_PATH/\" --exclude \"s3://$BUCKET/$VALIDATION_CHANNEL/\"\n",
    "\n",
    "echo \"Upload labels text to S3 bucket\"\n",
    "aws s3 cp \"$OUTPUT_PREFIX\"_label \"s3://$BUCKET\"\n",
    "\n",
    "echo \"Upload training record to the S3 bucket\"\n",
    "aws s3 cp \"$OUTPUT_PREFIX\"_train.rec \"s3://$BUCKET/$TRAIN_CHANNEL/$RECORD_PATH/\"\n",
    "aws s3 cp \"$OUTPUT_PREFIX\"_train.idx \"s3://$BUCKET/$TRAIN_CHANNEL/$RECORD_PATH/\"\n",
    "aws s3 cp \"$OUTPUT_PREFIX\"_train.lst \"s3://$BUCKET/$TRAIN_CHANNEL/$RECORD_PATH/\"\n",
    "\n",
    "echo \"Upload validation record to the S3 bucket\"\n",
    "aws s3 cp \"$OUTPUT_PREFIX\"_val.rec \"s3://$BUCKET/$VALIDATION_CHANNEL/$RECORD_PATH/\"\n",
    "aws s3 cp \"$OUTPUT_PREFIX\"_val.idx \"s3://$BUCKET/$VALIDATION_CHANNEL/$RECORD_PATH/\"\n",
    "aws s3 cp \"$OUTPUT_PREFIX\"_val.lst \"s3://$BUCKET/$VALIDATION_CHANNEL/$RECORD_PATH/\""
   ]
  },
  {
   "cell_type": "code",
   "execution_count": null,
   "metadata": {},
   "outputs": [],
   "source": [
    "%%bash\n",
    "\n",
    "if [ $CLEAN_UP = true ]; then\n",
    "    echo \"Clean up folders\"\n",
    "    echo \"Removing $DATA_PATH\"\n",
    "    rm -rf \"./$DATA_PATH\"\n",
    "    echo \"Removing $INCUBATOR_PATH\"\n",
    "    rm -rf \"./$INCUBATOR_PATH\"\n",
    "    echo \"Removing recordio files\"\n",
    "    rm \"$OUTPUT_PREFIX\"_*\n",
    "fi"
   ]
  }
 ],
 "metadata": {
  "kernelspec": {
   "display_name": "conda_mxnet_p36",
   "language": "python",
   "name": "conda_mxnet_p36"
  },
  "language_info": {
   "codemirror_mode": {
    "name": "ipython",
    "version": 3
   },
   "file_extension": ".py",
   "mimetype": "text/x-python",
   "name": "python",
   "nbconvert_exporter": "python",
   "pygments_lexer": "ipython3",
   "version": "3.6.2"
  }
 },
 "nbformat": 4,
 "nbformat_minor": 2
}
